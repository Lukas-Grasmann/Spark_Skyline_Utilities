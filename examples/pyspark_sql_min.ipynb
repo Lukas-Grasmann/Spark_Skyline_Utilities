{
 "cells": [
  {
   "cell_type": "code",
   "execution_count": null,
   "metadata": {},
   "outputs": [],
   "source": [
    "from pyspark.sql import SQLContext\n",
    "from pyspark import SparkContext\n",
    "\n",
    "sc = SparkContext()\n",
    "sqlContext = SQLContext(sc)"
   ]
  },
  {
   "cell_type": "markdown",
   "metadata": {},
   "source": [
    "# Read data from ``data/hotels_bahamas_min.csv``\n",
    "\n",
    "Read minimal data about hotels in the Bahamas from the CSV file an store them in temporary table ``hotels``."
   ]
  },
  {
   "cell_type": "code",
   "execution_count": null,
   "metadata": {},
   "outputs": [],
   "source": [
    "df = sqlContext.read.format('csv').options(header='true', inferschema='true').load('/home/lukas/spark/data/hotels_bahamas_min.csv')\n",
    "df.registerTempTable(\"hotels\")\n",
    "sqlContext.sql(\"SELECT * FROM hotels\").show()\n",
    "sqlContext.sql(\"SELECT * FROM hotels SKYLINE OF price MIN, distance MIN\").show()"
   ]
  },
  {
   "cell_type": "code",
   "execution_count": null,
   "metadata": {},
   "outputs": [],
   "source": [
    "sqlContext.sql(\"SELECT * FROM hotels\").explain(\"extended\")\n",
    "sqlContext.sql(\"SELECT * FROM hotels SKYLINE OF price MIN, distance MIN\").explain()\n",
    "sqlContext.sql(\"SELECT * FROM hotels SKYLINE OF price MIN, distance MIN\").explain(\"extended\")"
   ]
  },
  {
   "cell_type": "code",
   "execution_count": null,
   "metadata": {},
   "outputs": [],
   "source": [
    "df.filter(\"price > 200\").skyline([\"price\", \"distance\"], minMaxDiff=[\"min\", \"min\"]).explain(\"extended\")\n",
    "df.filter(\"price > 200\").skyline([\"price\", \"distance\"], minMaxDiff=[\"min\", \"min\"], distinct=[1, 0]).explain(\"extended\")"
   ]
  },
  {
   "cell_type": "code",
   "execution_count": null,
   "metadata": {},
   "outputs": [],
   "source": [
    "# df.filter(\"price > 200\").sort(df.price.desc()).explain(\"extended\")\n",
    "df.filter(\"price > 200\").skyline(df.price.smin().sdistinct(), df.distance.smax().sdistinct()).explain(\"extended\")"
   ]
  },
  {
   "cell_type": "code",
   "execution_count": null,
   "metadata": {},
   "outputs": [],
   "source": []
  }
 ],
 "metadata": {
  "kernelspec": {
   "display_name": "Python 3 (ipykernel)",
   "language": "python",
   "name": "python3"
  },
  "language_info": {
   "codemirror_mode": {
    "name": "ipython",
    "version": 3
   },
   "file_extension": ".py",
   "mimetype": "text/x-python",
   "name": "python",
   "nbconvert_exporter": "python",
   "pygments_lexer": "ipython3",
   "version": "3.9.5"
  }
 },
 "nbformat": 4,
 "nbformat_minor": 2
}
