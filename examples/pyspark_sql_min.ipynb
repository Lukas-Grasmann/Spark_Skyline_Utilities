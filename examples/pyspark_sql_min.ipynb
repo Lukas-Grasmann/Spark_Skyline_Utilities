{
 "cells": [
  {
   "cell_type": "code",
   "execution_count": 1,
   "metadata": {},
   "outputs": [
    {
     "name": "stderr",
     "output_type": "stream",
     "text": [
      "21/09/23 10:51:18 WARN Utils: Your hostname, lukas-VirtualBox resolves to a loopback address: 127.0.1.1; using 10.0.2.15 instead (on interface enp0s3)\n",
      "21/09/23 10:51:18 WARN Utils: Set SPARK_LOCAL_IP if you need to bind to another address\n",
      "WARNING: An illegal reflective access operation has occurred\n",
      "WARNING: Illegal reflective access by org.apache.spark.unsafe.Platform (file:/home/lukas/spark/spark-3.1.2/assembly/target/scala-2.12/jars/spark-unsafe_2.12-3.1.2.jar) to constructor java.nio.DirectByteBuffer(long,int)\n",
      "WARNING: Please consider reporting this to the maintainers of org.apache.spark.unsafe.Platform\n",
      "WARNING: Use --illegal-access=warn to enable warnings of further illegal reflective access operations\n",
      "WARNING: All illegal access operations will be denied in a future release\n",
      "21/09/23 10:51:18 WARN NativeCodeLoader: Unable to load native-hadoop library for your platform... using builtin-java classes where applicable\n",
      "Using Spark's default log4j profile: org/apache/spark/log4j-defaults.properties\n",
      "Setting default log level to \"WARN\".\n",
      "To adjust logging level use sc.setLogLevel(newLevel). For SparkR, use setLogLevel(newLevel).\n"
     ]
    }
   ],
   "source": [
    "from pyspark.sql import SQLContext\n",
    "from pyspark import SparkContext\n",
    "\n",
    "sc = SparkContext()\n",
    "sqlContext = SQLContext(sc)"
   ]
  },
  {
   "cell_type": "markdown",
   "metadata": {},
   "source": [
    "# Read data from ``data/hotels_bahamas_min.csv``\n",
    "\n",
    "Read minimal data about hotels in the Bahamas from the CSV file an store them in temporary table ``hotels``."
   ]
  },
  {
   "cell_type": "code",
   "execution_count": 2,
   "metadata": {},
   "outputs": [
    {
     "name": "stdout",
     "output_type": "stream",
     "text": [
      "+---+-----+--------+\n",
      "| id|price|distance|\n",
      "+---+-----+--------+\n",
      "|  1|  257|     600|\n",
      "|  2|  323|     350|\n",
      "|  3|  276|       0|\n",
      "|  4|  234|     100|\n",
      "|  5|  265|     250|\n",
      "|  6|  257|     500|\n",
      "+---+-----+--------+\n",
      "\n",
      "+---+-----+--------+\n",
      "| id|price|distance|\n",
      "+---+-----+--------+\n",
      "|  3|  276|       0|\n",
      "|  4|  234|     100|\n",
      "+---+-----+--------+\n",
      "\n"
     ]
    }
   ],
   "source": [
    "df = sqlContext.read.format('csv').options(header='true', inferschema='true').load('/home/lukas/spark/data/hotels_bahamas_min.csv')\n",
    "df.registerTempTable(\"hotels\")\n",
    "sqlContext.sql(\"SELECT * FROM hotels\").show()\n",
    "sqlContext.sql(\"SELECT * FROM hotels SKYLINE OF price MIN, distance MIN\").show()"
   ]
  },
  {
   "cell_type": "code",
   "execution_count": 3,
   "metadata": {},
   "outputs": [
    {
     "name": "stdout",
     "output_type": "stream",
     "text": [
      "== Parsed Logical Plan ==\n",
      "'Project [*]\n",
      "+- 'UnresolvedRelation [hotels], [], false\n",
      "\n",
      "== Analyzed Logical Plan ==\n",
      "id: int, price: int, distance: int\n",
      "Project [id#16, price#17, distance#18]\n",
      "+- SubqueryAlias hotels\n",
      "   +- Relation[id#16,price#17,distance#18] csv\n",
      "\n",
      "== Optimized Logical Plan ==\n",
      "Relation[id#16,price#17,distance#18] csv\n",
      "\n",
      "== Physical Plan ==\n",
      "FileScan csv [id#16,price#17,distance#18] Batched: false, DataFilters: [], Format: CSV, Location: InMemoryFileIndex[file:/home/lukas/spark/data/hotels_bahamas_min.csv], PartitionFilters: [], PushedFilters: [], ReadSchema: struct<id:int,price:int,distance:int>\n",
      "\n",
      "== Physical Plan ==\n",
      "BlockNestedLoopIncompleteSkyline SkylineIsNotDistinct, [price#17 MIN, distance#18 MIN]\n",
      "+- Exchange SinglePartition, ENSURE_REQUIREMENTS, [id=#84]\n",
      "   +- BlockNestedLoopSkyline SkylineIsNotDistinct, [price#17 MIN, distance#18 MIN], ArrayBuffer(isnotnull(price#17), isnotnull(distance#18)), true\n",
      "      +- Exchange hashpartitioning(isnotnull(price#17), isnotnull(distance#18), 200), ENSURE_REQUIREMENTS, [id=#81]\n",
      "         +- FileScan csv [id#16,price#17,distance#18] Batched: false, DataFilters: [], Format: CSV, Location: InMemoryFileIndex[file:/home/lukas/spark/data/hotels_bahamas_min.csv], PartitionFilters: [], PushedFilters: [], ReadSchema: struct<id:int,price:int,distance:int>\n",
      "\n",
      "\n",
      "== Parsed Logical Plan ==\n",
      "'SkylineOperator SkylineIsNotDistinct, SkylineUnspecifiedCompleteness, ['price MIN, 'distance MIN]\n",
      "+- 'Project [*]\n",
      "   +- 'UnresolvedRelation [hotels], [], false\n",
      "\n",
      "== Analyzed Logical Plan ==\n",
      "id: int, price: int, distance: int\n",
      "SkylineOperator SkylineIsNotDistinct, SkylineUnspecifiedCompleteness, [price#17 MIN, distance#18 MIN]\n",
      "+- Project [id#16, price#17, distance#18]\n",
      "   +- SubqueryAlias hotels\n",
      "      +- Relation[id#16,price#17,distance#18] csv\n",
      "\n",
      "== Optimized Logical Plan ==\n",
      "SkylineOperator SkylineIsNotDistinct, SkylineUnspecifiedCompleteness, [price#17 MIN, distance#18 MIN]\n",
      "+- Relation[id#16,price#17,distance#18] csv\n",
      "\n",
      "== Physical Plan ==\n",
      "BlockNestedLoopIncompleteSkyline SkylineIsNotDistinct, [price#17 MIN, distance#18 MIN]\n",
      "+- Exchange SinglePartition, ENSURE_REQUIREMENTS, [id=#105]\n",
      "   +- BlockNestedLoopSkyline SkylineIsNotDistinct, [price#17 MIN, distance#18 MIN], ArrayBuffer(isnotnull(price#17), isnotnull(distance#18)), true\n",
      "      +- Exchange hashpartitioning(isnotnull(price#17), isnotnull(distance#18), 200), ENSURE_REQUIREMENTS, [id=#102]\n",
      "         +- FileScan csv [id#16,price#17,distance#18] Batched: false, DataFilters: [], Format: CSV, Location: InMemoryFileIndex[file:/home/lukas/spark/data/hotels_bahamas_min.csv], PartitionFilters: [], PushedFilters: [], ReadSchema: struct<id:int,price:int,distance:int>\n",
      "\n"
     ]
    }
   ],
   "source": [
    "sqlContext.sql(\"SELECT * FROM hotels\").explain(\"extended\")\n",
    "sqlContext.sql(\"SELECT * FROM hotels SKYLINE OF price MIN, distance MIN\").explain()\n",
    "sqlContext.sql(\"SELECT * FROM hotels SKYLINE OF price MIN, distance MIN\").explain(\"extended\")"
   ]
  },
  {
   "cell_type": "code",
   "execution_count": 4,
   "metadata": {},
   "outputs": [
    {
     "name": "stdout",
     "output_type": "stream",
     "text": [
      "== Parsed Logical Plan ==\n",
      "'Project [*]\n",
      "+- 'UnresolvedRelation [hotels], [], false\n",
      "\n",
      "== Analyzed Logical Plan ==\n",
      "id: int, price: int, distance: int\n",
      "Project [id#16, price#17, distance#18]\n",
      "+- SubqueryAlias hotels\n",
      "   +- Relation[id#16,price#17,distance#18] csv\n",
      "\n",
      "== Optimized Logical Plan ==\n",
      "Relation[id#16,price#17,distance#18] csv\n",
      "\n",
      "== Physical Plan ==\n",
      "FileScan csv [id#16,price#17,distance#18] Batched: false, DataFilters: [], Format: CSV, Location: InMemoryFileIndex[file:/home/lukas/spark/data/hotels_bahamas_min.csv], PartitionFilters: [], PushedFilters: [], ReadSchema: struct<id:int,price:int,distance:int>\n",
      "\n",
      "== Physical Plan ==\n",
      "BlockNestedLoopIncompleteSkyline SkylineIsNotDistinct, [price#17 MIN, distance#18 MIN]\n",
      "+- Exchange SinglePartition, ENSURE_REQUIREMENTS, [id=#129]\n",
      "   +- BlockNestedLoopSkyline SkylineIsNotDistinct, [price#17 MIN, distance#18 MIN], ArrayBuffer(isnotnull(price#17), isnotnull(distance#18)), true\n",
      "      +- Exchange hashpartitioning(isnotnull(price#17), isnotnull(distance#18), 200), ENSURE_REQUIREMENTS, [id=#126]\n",
      "         +- FileScan csv [id#16,price#17,distance#18] Batched: false, DataFilters: [], Format: CSV, Location: InMemoryFileIndex[file:/home/lukas/spark/data/hotels_bahamas_min.csv], PartitionFilters: [], PushedFilters: [], ReadSchema: struct<id:int,price:int,distance:int>\n",
      "\n",
      "\n",
      "== Parsed Logical Plan ==\n",
      "'SkylineOperator SkylineIsNotDistinct, SkylineUnspecifiedCompleteness, ['price MIN, 'distance MIN]\n",
      "+- 'Project [*]\n",
      "   +- 'SubqueryAlias COMPLETE\n",
      "      +- 'UnresolvedRelation [hotels], [], false\n",
      "\n",
      "== Analyzed Logical Plan ==\n",
      "id: int, price: int, distance: int\n",
      "SkylineOperator SkylineIsNotDistinct, SkylineUnspecifiedCompleteness, [price#17 MIN, distance#18 MIN]\n",
      "+- Project [id#16, price#17, distance#18]\n",
      "   +- SubqueryAlias COMPLETE\n",
      "      +- SubqueryAlias hotels\n",
      "         +- Relation[id#16,price#17,distance#18] csv\n",
      "\n",
      "== Optimized Logical Plan ==\n",
      "SkylineOperator SkylineIsNotDistinct, SkylineUnspecifiedCompleteness, [price#17 MIN, distance#18 MIN]\n",
      "+- Relation[id#16,price#17,distance#18] csv\n",
      "\n",
      "== Physical Plan ==\n",
      "BlockNestedLoopIncompleteSkyline SkylineIsNotDistinct, [price#17 MIN, distance#18 MIN]\n",
      "+- Exchange SinglePartition, ENSURE_REQUIREMENTS, [id=#150]\n",
      "   +- BlockNestedLoopSkyline SkylineIsNotDistinct, [price#17 MIN, distance#18 MIN], ArrayBuffer(isnotnull(price#17), isnotnull(distance#18)), true\n",
      "      +- Exchange hashpartitioning(isnotnull(price#17), isnotnull(distance#18), 200), ENSURE_REQUIREMENTS, [id=#147]\n",
      "         +- FileScan csv [id#16,price#17,distance#18] Batched: false, DataFilters: [], Format: CSV, Location: InMemoryFileIndex[file:/home/lukas/spark/data/hotels_bahamas_min.csv], PartitionFilters: [], PushedFilters: [], ReadSchema: struct<id:int,price:int,distance:int>\n",
      "\n"
     ]
    }
   ],
   "source": [
    "sqlContext.sql(\"SELECT * FROM hotels\").explain(\"extended\")\n",
    "sqlContext.sql(\"SELECT * FROM hotels COMPLETE SKYLINE OF price MIN, distance MIN\").explain()\n",
    "sqlContext.sql(\"SELECT * FROM hotels COMPLETE SKYLINE OF price MIN, distance MIN\").explain(\"extended\")"
   ]
  },
  {
   "cell_type": "code",
   "execution_count": 5,
   "metadata": {},
   "outputs": [
    {
     "name": "stdout",
     "output_type": "stream",
     "text": [
      "+---+-----+--------+\n",
      "| id|price|distance|\n",
      "+---+-----+--------+\n",
      "|  3|  276|       0|\n",
      "|  4|  234|     100|\n",
      "+---+-----+--------+\n",
      "\n",
      "== Parsed Logical Plan ==\n",
      "'SkylineOperator SkylineIsNotDistinct, SkylineUnspecifiedCompleteness, ['price MIN, 'distance MIN]\n",
      "+- Filter (price#17 > 200)\n",
      "   +- Relation[id#16,price#17,distance#18] csv\n",
      "\n",
      "== Analyzed Logical Plan ==\n",
      "id: int, price: int, distance: int\n",
      "SkylineOperator SkylineIsNotDistinct, SkylineUnspecifiedCompleteness, [price#17 MIN, distance#18 MIN]\n",
      "+- Filter (price#17 > 200)\n",
      "   +- Relation[id#16,price#17,distance#18] csv\n",
      "\n",
      "== Optimized Logical Plan ==\n",
      "SkylineOperator SkylineIsNotDistinct, SkylineUnspecifiedCompleteness, [price#17 MIN, distance#18 MIN]\n",
      "+- Filter (isnotnull(price#17) AND (price#17 > 200))\n",
      "   +- Relation[id#16,price#17,distance#18] csv\n",
      "\n",
      "== Physical Plan ==\n",
      "BlockNestedLoopIncompleteSkyline SkylineIsNotDistinct, [price#17 MIN, distance#18 MIN]\n",
      "+- Exchange SinglePartition, ENSURE_REQUIREMENTS, [id=#237]\n",
      "   +- BlockNestedLoopSkyline SkylineIsNotDistinct, [price#17 MIN, distance#18 MIN], ArrayBuffer(isnotnull(price#17), isnotnull(distance#18)), true\n",
      "      +- Exchange hashpartitioning(isnotnull(price#17), isnotnull(distance#18), 200), ENSURE_REQUIREMENTS, [id=#235]\n",
      "         +- *(1) Filter (isnotnull(price#17) AND (price#17 > 200))\n",
      "            +- FileScan csv [id#16,price#17,distance#18] Batched: false, DataFilters: [isnotnull(price#17), (price#17 > 200)], Format: CSV, Location: InMemoryFileIndex[file:/home/lukas/spark/data/hotels_bahamas_min.csv], PartitionFilters: [], PushedFilters: [IsNotNull(price), GreaterThan(price,200)], ReadSchema: struct<id:int,price:int,distance:int>\n",
      "\n"
     ]
    }
   ],
   "source": [
    "df.filter(\"price > 200\").skyline([\"price\", \"distance\"], minMaxDiff=[\"min\", \"min\"]).show()\n",
    "df.filter(\"price > 200\").skyline([\"price\", \"distance\"], minMaxDiff=[\"min\", \"min\"]).explain(\"extended\")"
   ]
  },
  {
   "cell_type": "code",
   "execution_count": 6,
   "metadata": {},
   "outputs": [
    {
     "name": "stdout",
     "output_type": "stream",
     "text": [
      "+---+-----+--------+\n",
      "| id|price|distance|\n",
      "+---+-----+--------+\n",
      "|  3|  276|       0|\n",
      "|  4|  234|     100|\n",
      "+---+-----+--------+\n",
      "\n",
      "== Parsed Logical Plan ==\n",
      "'SkylineOperator SkylineIsDistinct, SkylineUnspecifiedCompleteness, ['price MIN, 'distance MIN]\n",
      "+- Filter (price#17 > 200)\n",
      "   +- Relation[id#16,price#17,distance#18] csv\n",
      "\n",
      "== Analyzed Logical Plan ==\n",
      "id: int, price: int, distance: int\n",
      "SkylineOperator SkylineIsDistinct, SkylineUnspecifiedCompleteness, [price#17 MIN, distance#18 MIN]\n",
      "+- Filter (price#17 > 200)\n",
      "   +- Relation[id#16,price#17,distance#18] csv\n",
      "\n",
      "== Optimized Logical Plan ==\n",
      "SkylineOperator SkylineIsDistinct, SkylineUnspecifiedCompleteness, [price#17 MIN, distance#18 MIN]\n",
      "+- Filter (isnotnull(price#17) AND (price#17 > 200))\n",
      "   +- Relation[id#16,price#17,distance#18] csv\n",
      "\n",
      "== Physical Plan ==\n",
      "BlockNestedLoopIncompleteSkyline SkylineIsDistinct, [price#17 MIN, distance#18 MIN]\n",
      "+- Exchange SinglePartition, ENSURE_REQUIREMENTS, [id=#328]\n",
      "   +- BlockNestedLoopSkyline SkylineIsDistinct, [price#17 MIN, distance#18 MIN], ArrayBuffer(isnotnull(price#17), isnotnull(distance#18)), true\n",
      "      +- Exchange hashpartitioning(isnotnull(price#17), isnotnull(distance#18), 200), ENSURE_REQUIREMENTS, [id=#326]\n",
      "         +- *(1) Filter (isnotnull(price#17) AND (price#17 > 200))\n",
      "            +- FileScan csv [id#16,price#17,distance#18] Batched: false, DataFilters: [isnotnull(price#17), (price#17 > 200)], Format: CSV, Location: InMemoryFileIndex[file:/home/lukas/spark/data/hotels_bahamas_min.csv], PartitionFilters: [], PushedFilters: [IsNotNull(price), GreaterThan(price,200)], ReadSchema: struct<id:int,price:int,distance:int>\n",
      "\n"
     ]
    }
   ],
   "source": [
    "df.filter(\"price > 200\").skylineDistinct([\"price\", \"distance\"], minMaxDiff=[\"min\", \"min\"]).show()\n",
    "df.filter(\"price > 200\").skylineDistinct([\"price\", \"distance\"], minMaxDiff=[\"min\", \"min\"]).explain(\"extended\")"
   ]
  },
  {
   "cell_type": "code",
   "execution_count": 7,
   "metadata": {},
   "outputs": [
    {
     "name": "stdout",
     "output_type": "stream",
     "text": [
      "== Parsed Logical Plan ==\n",
      "SkylineOperator SkylineIsNotDistinct, SkylineUnspecifiedCompleteness, [price#17 MIN, distance#18 MAX]\n",
      "+- Filter (price#17 > 200)\n",
      "   +- Relation[id#16,price#17,distance#18] csv\n",
      "\n",
      "== Analyzed Logical Plan ==\n",
      "id: int, price: int, distance: int\n",
      "SkylineOperator SkylineIsNotDistinct, SkylineUnspecifiedCompleteness, [price#17 MIN, distance#18 MAX]\n",
      "+- Filter (price#17 > 200)\n",
      "   +- Relation[id#16,price#17,distance#18] csv\n",
      "\n",
      "== Optimized Logical Plan ==\n",
      "SkylineOperator SkylineIsNotDistinct, SkylineUnspecifiedCompleteness, [price#17 MIN, distance#18 MAX]\n",
      "+- Filter (isnotnull(price#17) AND (price#17 > 200))\n",
      "   +- Relation[id#16,price#17,distance#18] csv\n",
      "\n",
      "== Physical Plan ==\n",
      "BlockNestedLoopIncompleteSkyline SkylineIsNotDistinct, [price#17 MIN, distance#18 MAX]\n",
      "+- Exchange SinglePartition, ENSURE_REQUIREMENTS, [id=#366]\n",
      "   +- BlockNestedLoopSkyline SkylineIsNotDistinct, [price#17 MIN, distance#18 MAX], ArrayBuffer(isnotnull(price#17), isnotnull(distance#18)), true\n",
      "      +- Exchange hashpartitioning(isnotnull(price#17), isnotnull(distance#18), 200), ENSURE_REQUIREMENTS, [id=#364]\n",
      "         +- *(1) Filter (isnotnull(price#17) AND (price#17 > 200))\n",
      "            +- FileScan csv [id#16,price#17,distance#18] Batched: false, DataFilters: [isnotnull(price#17), (price#17 > 200)], Format: CSV, Location: InMemoryFileIndex[file:/home/lukas/spark/data/hotels_bahamas_min.csv], PartitionFilters: [], PushedFilters: [IsNotNull(price), GreaterThan(price,200)], ReadSchema: struct<id:int,price:int,distance:int>\n",
      "\n",
      "== Parsed Logical Plan ==\n",
      "SkylineOperator SkylineIsDistinct, SkylineUnspecifiedCompleteness, [price#17 MIN, distance#18 MAX]\n",
      "+- Filter (price#17 > 200)\n",
      "   +- Relation[id#16,price#17,distance#18] csv\n",
      "\n",
      "== Analyzed Logical Plan ==\n",
      "id: int, price: int, distance: int\n",
      "SkylineOperator SkylineIsDistinct, SkylineUnspecifiedCompleteness, [price#17 MIN, distance#18 MAX]\n",
      "+- Filter (price#17 > 200)\n",
      "   +- Relation[id#16,price#17,distance#18] csv\n",
      "\n",
      "== Optimized Logical Plan ==\n",
      "SkylineOperator SkylineIsDistinct, SkylineUnspecifiedCompleteness, [price#17 MIN, distance#18 MAX]\n",
      "+- Filter (isnotnull(price#17) AND (price#17 > 200))\n",
      "   +- Relation[id#16,price#17,distance#18] csv\n",
      "\n",
      "== Physical Plan ==\n",
      "BlockNestedLoopIncompleteSkyline SkylineIsDistinct, [price#17 MIN, distance#18 MAX]\n",
      "+- Exchange SinglePartition, ENSURE_REQUIREMENTS, [id=#404]\n",
      "   +- BlockNestedLoopSkyline SkylineIsDistinct, [price#17 MIN, distance#18 MAX], ArrayBuffer(isnotnull(price#17), isnotnull(distance#18)), true\n",
      "      +- Exchange hashpartitioning(isnotnull(price#17), isnotnull(distance#18), 200), ENSURE_REQUIREMENTS, [id=#402]\n",
      "         +- *(1) Filter (isnotnull(price#17) AND (price#17 > 200))\n",
      "            +- FileScan csv [id#16,price#17,distance#18] Batched: false, DataFilters: [isnotnull(price#17), (price#17 > 200)], Format: CSV, Location: InMemoryFileIndex[file:/home/lukas/spark/data/hotels_bahamas_min.csv], PartitionFilters: [], PushedFilters: [IsNotNull(price), GreaterThan(price,200)], ReadSchema: struct<id:int,price:int,distance:int>\n",
      "\n"
     ]
    }
   ],
   "source": [
    "df.filter(\"price > 200\").skyline(df.price.smin(), df.distance.smax()).explain(\"extended\")\n",
    "df.filter(\"price > 200\").skylineDistinct(df.price.smin(), df.distance.smax()).explain(\"extended\")"
   ]
  },
  {
   "cell_type": "code",
   "execution_count": 8,
   "metadata": {},
   "outputs": [
    {
     "name": "stdout",
     "output_type": "stream",
     "text": [
      "== Parsed Logical Plan ==\n",
      "SkylineOperator SkylineIsNotDistinct, SkylineIsComplete, [price#17 MIN, distance#18 MAX]\n",
      "+- Filter (price#17 > 200)\n",
      "   +- Relation[id#16,price#17,distance#18] csv\n",
      "\n",
      "== Analyzed Logical Plan ==\n",
      "id: int, price: int, distance: int\n",
      "SkylineOperator SkylineIsNotDistinct, SkylineIsComplete, [price#17 MIN, distance#18 MAX]\n",
      "+- Filter (price#17 > 200)\n",
      "   +- Relation[id#16,price#17,distance#18] csv\n",
      "\n",
      "== Optimized Logical Plan ==\n",
      "SkylineOperator SkylineIsNotDistinct, SkylineIsComplete, [price#17 MIN, distance#18 MAX]\n",
      "+- Filter (isnotnull(price#17) AND (price#17 > 200))\n",
      "   +- Relation[id#16,price#17,distance#18] csv\n",
      "\n",
      "== Physical Plan ==\n",
      "BlockNestedLoopSkyline SkylineIsNotDistinct, [price#17 MIN, distance#18 MAX], List(), false\n",
      "+- Exchange SinglePartition, ENSURE_REQUIREMENTS, [id=#438]\n",
      "   +- BlockNestedLoopSkyline SkylineIsNotDistinct, [price#17 MIN, distance#18 MAX], false\n",
      "      +- *(1) Filter (isnotnull(price#17) AND (price#17 > 200))\n",
      "         +- FileScan csv [id#16,price#17,distance#18] Batched: false, DataFilters: [isnotnull(price#17), (price#17 > 200)], Format: CSV, Location: InMemoryFileIndex[file:/home/lukas/spark/data/hotels_bahamas_min.csv], PartitionFilters: [], PushedFilters: [IsNotNull(price), GreaterThan(price,200)], ReadSchema: struct<id:int,price:int,distance:int>\n",
      "\n",
      "== Parsed Logical Plan ==\n",
      "SkylineOperator SkylineIsDistinct, SkylineIsComplete, [price#17 MIN, distance#18 MAX]\n",
      "+- Filter (price#17 > 200)\n",
      "   +- Relation[id#16,price#17,distance#18] csv\n",
      "\n",
      "== Analyzed Logical Plan ==\n",
      "id: int, price: int, distance: int\n",
      "SkylineOperator SkylineIsDistinct, SkylineIsComplete, [price#17 MIN, distance#18 MAX]\n",
      "+- Filter (price#17 > 200)\n",
      "   +- Relation[id#16,price#17,distance#18] csv\n",
      "\n",
      "== Optimized Logical Plan ==\n",
      "SkylineOperator SkylineIsDistinct, SkylineIsComplete, [price#17 MIN, distance#18 MAX]\n",
      "+- Filter (isnotnull(price#17) AND (price#17 > 200))\n",
      "   +- Relation[id#16,price#17,distance#18] csv\n",
      "\n",
      "== Physical Plan ==\n",
      "BlockNestedLoopSkyline SkylineIsDistinct, [price#17 MIN, distance#18 MAX], List(), false\n",
      "+- Exchange SinglePartition, ENSURE_REQUIREMENTS, [id=#462]\n",
      "   +- BlockNestedLoopSkyline SkylineIsDistinct, [price#17 MIN, distance#18 MAX], false\n",
      "      +- *(1) Filter (isnotnull(price#17) AND (price#17 > 200))\n",
      "         +- FileScan csv [id#16,price#17,distance#18] Batched: false, DataFilters: [isnotnull(price#17), (price#17 > 200)], Format: CSV, Location: InMemoryFileIndex[file:/home/lukas/spark/data/hotels_bahamas_min.csv], PartitionFilters: [], PushedFilters: [IsNotNull(price), GreaterThan(price,200)], ReadSchema: struct<id:int,price:int,distance:int>\n",
      "\n"
     ]
    }
   ],
   "source": [
    "df.filter(\"price > 200\").skylineComplete(df.price.smin(), df.distance.smax()).explain(\"extended\")\n",
    "df.filter(\"price > 200\").skylineDistinctComplete(df.price.smin(), df.distance.smax()).explain(\"extended\")"
   ]
  },
  {
   "cell_type": "code",
   "execution_count": 9,
   "metadata": {},
   "outputs": [
    {
     "name": "stdout",
     "output_type": "stream",
     "text": [
      "+---+-----+--------+\n",
      "| id|price|distance|\n",
      "+---+-----+--------+\n",
      "|  3|  276|       0|\n",
      "|  4|  234|     100|\n",
      "+---+-----+--------+\n",
      "\n",
      "== Parsed Logical Plan ==\n",
      "'SkylineOperator SkylineIsNotDistinct, SkylineIsComplete, ['price MIN, 'distance MIN]\n",
      "+- Filter (price#17 > 200)\n",
      "   +- Relation[id#16,price#17,distance#18] csv\n",
      "\n",
      "== Analyzed Logical Plan ==\n",
      "id: int, price: int, distance: int\n",
      "SkylineOperator SkylineIsNotDistinct, SkylineIsComplete, [price#17 MIN, distance#18 MIN]\n",
      "+- Filter (price#17 > 200)\n",
      "   +- Relation[id#16,price#17,distance#18] csv\n",
      "\n",
      "== Optimized Logical Plan ==\n",
      "SkylineOperator SkylineIsNotDistinct, SkylineIsComplete, [price#17 MIN, distance#18 MIN]\n",
      "+- Filter (isnotnull(price#17) AND (price#17 > 200))\n",
      "   +- Relation[id#16,price#17,distance#18] csv\n",
      "\n",
      "== Physical Plan ==\n",
      "BlockNestedLoopSkyline SkylineIsNotDistinct, [price#17 MIN, distance#18 MIN], List(), false\n",
      "+- Exchange SinglePartition, ENSURE_REQUIREMENTS, [id=#525]\n",
      "   +- BlockNestedLoopSkyline SkylineIsNotDistinct, [price#17 MIN, distance#18 MIN], false\n",
      "      +- *(1) Filter (isnotnull(price#17) AND (price#17 > 200))\n",
      "         +- FileScan csv [id#16,price#17,distance#18] Batched: false, DataFilters: [isnotnull(price#17), (price#17 > 200)], Format: CSV, Location: InMemoryFileIndex[file:/home/lukas/spark/data/hotels_bahamas_min.csv], PartitionFilters: [], PushedFilters: [IsNotNull(price), GreaterThan(price,200)], ReadSchema: struct<id:int,price:int,distance:int>\n",
      "\n",
      "+---+-----+--------+\n",
      "| id|price|distance|\n",
      "+---+-----+--------+\n",
      "|  3|  276|       0|\n",
      "|  4|  234|     100|\n",
      "+---+-----+--------+\n",
      "\n",
      "== Parsed Logical Plan ==\n",
      "'SkylineOperator SkylineIsDistinct, SkylineIsComplete, ['price MIN, 'distance MIN]\n",
      "+- Filter (price#17 > 200)\n",
      "   +- Relation[id#16,price#17,distance#18] csv\n",
      "\n",
      "== Analyzed Logical Plan ==\n",
      "id: int, price: int, distance: int\n",
      "SkylineOperator SkylineIsDistinct, SkylineIsComplete, [price#17 MIN, distance#18 MIN]\n",
      "+- Filter (price#17 > 200)\n",
      "   +- Relation[id#16,price#17,distance#18] csv\n",
      "\n",
      "== Optimized Logical Plan ==\n",
      "SkylineOperator SkylineIsDistinct, SkylineIsComplete, [price#17 MIN, distance#18 MIN]\n",
      "+- Filter (isnotnull(price#17) AND (price#17 > 200))\n",
      "   +- Relation[id#16,price#17,distance#18] csv\n",
      "\n",
      "== Physical Plan ==\n",
      "BlockNestedLoopSkyline SkylineIsDistinct, [price#17 MIN, distance#18 MIN], List(), false\n",
      "+- Exchange SinglePartition, ENSURE_REQUIREMENTS, [id=#588]\n",
      "   +- BlockNestedLoopSkyline SkylineIsDistinct, [price#17 MIN, distance#18 MIN], false\n",
      "      +- *(1) Filter (isnotnull(price#17) AND (price#17 > 200))\n",
      "         +- FileScan csv [id#16,price#17,distance#18] Batched: false, DataFilters: [isnotnull(price#17), (price#17 > 200)], Format: CSV, Location: InMemoryFileIndex[file:/home/lukas/spark/data/hotels_bahamas_min.csv], PartitionFilters: [], PushedFilters: [IsNotNull(price), GreaterThan(price,200)], ReadSchema: struct<id:int,price:int,distance:int>\n",
      "\n"
     ]
    }
   ],
   "source": [
    "df.filter(\"price > 200\").skylineComplete([\"price\", \"distance\"], minMaxDiff=[\"min\", \"min\"]).show()\n",
    "df.filter(\"price > 200\").skylineComplete([\"price\", \"distance\"], minMaxDiff=[\"min\", \"min\"]).explain(\"extended\")\n",
    "df.filter(\"price > 200\").skylineDistinctComplete([\"price\", \"distance\"], minMaxDiff=[\"min\", \"min\"]).show()\n",
    "df.filter(\"price > 200\").skylineDistinctComplete([\"price\", \"distance\"], minMaxDiff=[\"min\", \"min\"]).explain(\"extended\")"
   ]
  }
 ],
 "metadata": {
  "kernelspec": {
   "display_name": "Python 3 (ipykernel)",
   "language": "python",
   "name": "python3"
  },
  "language_info": {
   "codemirror_mode": {
    "name": "ipython",
    "version": 3
   },
   "file_extension": ".py",
   "mimetype": "text/x-python",
   "name": "python",
   "nbconvert_exporter": "python",
   "pygments_lexer": "ipython3",
   "version": "3.8.10"
  }
 },
 "nbformat": 4,
 "nbformat_minor": 2
}
